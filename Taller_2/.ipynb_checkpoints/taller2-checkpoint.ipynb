{
 "cells": [
  {
   "cell_type": "code",
   "execution_count": 1,
   "metadata": {},
   "outputs": [
    {
     "name": "stdout",
     "output_type": "stream",
     "text": [
      "Collecting Cython\n",
      "  Downloading https://files.pythonhosted.org/packages/16/9a/2eece92da53d954cc5ede815f9825b8ec795252471d0772ff9a591166c98/Cython-0.29.23-cp36-cp36m-manylinux1_x86_64.whl (2.0MB)\n",
      "\u001b[K    100% |################################| 2.0MB 157kB/s ta 0:00:01\n",
      "\u001b[?25hInstalling collected packages: Cython\n",
      "Successfully installed Cython-0.29.23\n",
      "Collecting pyarrow==0.9.0\n",
      "  Downloading https://files.pythonhosted.org/packages/fe/27/576e6c979bfa5f63070f809c930aa85d6198b91d17a64866234597ba861f/pyarrow-0.9.0-cp36-cp36m-manylinux1_x86_64.whl (13.7MB)\n",
      "\u001b[K    100% |################################| 13.7MB 88kB/s eta 0:00:01\n",
      "\u001b[?25hRequirement already satisfied: six>=1.0.0 in /usr/lib/python3/dist-packages (from pyarrow==0.9.0)\n",
      "Requirement already satisfied: numpy>=1.10 in /usr/local/lib/python3.6/dist-packages (from pyarrow==0.9.0)\n",
      "Installing collected packages: pyarrow\n",
      "Successfully installed pyarrow-0.9.0\n",
      "Collecting ts-flint\n",
      "  Downloading https://files.pythonhosted.org/packages/bb/f9/afab3946adefd527ca376aa71fdb6cd1ff787940c3f2467de382a8697c9d/ts_flint-0.6.0-py3-none-any.whl\n",
      "Installing collected packages: ts-flint\n",
      "Successfully installed ts-flint-0.6.0\n",
      "--2021-05-15 19:56:52--  https://repo1.maven.org/maven2/com/twosigma/flint/0.6.0/flint-0.6.0.jar\n",
      "Resolving repo1.maven.org (repo1.maven.org)... 199.232.32.209\n",
      "Connecting to repo1.maven.org (repo1.maven.org)|199.232.32.209|:443... connected.\n",
      "HTTP request sent, awaiting response... 200 OK\n",
      "Length: 2171677 (2.1M) [application/java-archive]\n",
      "Saving to: 'flint-0.6.0.jar'\n",
      "\n",
      "flint-0.6.0.jar     100%[===================>]   2.07M   143KB/s    in 17s     \n",
      "\n",
      "2021-05-15 19:57:10 (122 KB/s) - 'flint-0.6.0.jar' saved [2171677/2171677]\n",
      "\n"
     ]
    }
   ],
   "source": [
    "# Es una libreria que da soporte para llamar funciones, clases y tipos del Lenguaje C\n",
    "# Es un requerimiento para ts.flint\n",
    "!pip3 install Cython\n",
    "\n",
    "# Es una libreria especial para la serialización de arreglos basada en C++, permite la \n",
    "# integración entre pandas, NumPy, Spark ... \n",
    "# https://pypi.org/project/pyarrow/\n",
    "# Es un requerimiento para ts.flint\n",
    "!pip3 install pyarrow==0.9.0\n",
    "\n",
    "# Es una colección de módulos para el análisis de series de tiempo con PySpark\n",
    "# https://ts-flint.readthedocs.io/en/latest/\n",
    "!pip3 install ts-flint\n",
    "\n",
    "# Descargamos las librerias java de flint\n",
    "# quedará en la carpeta /datalake\n",
    "!wget https://repo1.maven.org/maven2/com/twosigma/flint/0.6.0/flint-0.6.0.jar"
   ]
  },
  {
   "cell_type": "code",
   "execution_count": 2,
   "metadata": {},
   "outputs": [],
   "source": [
    "# Agrege acá el código para importar las librerias\n",
    "\n",
    "# La libreria para \"encontrar el sevicio\" de Spark\n",
    "import findspark\n",
    "findspark.init()\n",
    "\n",
    "# Librerias para \"gestionar el servicio\" de Spark\n",
    "from pyspark import SparkConf, SparkContext\n",
    "from pyspark.sql import SQLContext, SparkSession\n",
    "\n",
    "# Creamos una aplicación Spark en el Servicio\n",
    "# Tenga cuidado con las tildes o caracteres especiales en el nombre de la app\n",
    "AppSpark = SparkConf().setAppName(\"Evaluacion iSofware\")\n",
    "\n",
    "# definimos un espacio o contexto para la App\n",
    "ContextoSpark=SparkContext(conf=AppSpark)\n",
    "\n",
    "# inicio una sesión en el espacio de la App\n",
    "SesionSpark = SparkSession(ContextoSpark)\n",
    "\n",
    "# inicio del espacio o contexto SQL\n",
    "ContextoSql = SQLContext(sparkContext=ContextoSpark, sparkSession=SesionSpark)"
   ]
  },
  {
   "cell_type": "code",
   "execution_count": 3,
   "metadata": {},
   "outputs": [],
   "source": [
    "!hadoop fs -ls"
   ]
  }
 ],
 "metadata": {
  "kernelspec": {
   "display_name": "Python 3",
   "language": "python",
   "name": "python3"
  },
  "language_info": {
   "codemirror_mode": {
    "name": "ipython",
    "version": 3
   },
   "file_extension": ".py",
   "mimetype": "text/x-python",
   "name": "python",
   "nbconvert_exporter": "python",
   "pygments_lexer": "ipython3",
   "version": "3.6.9"
  }
 },
 "nbformat": 4,
 "nbformat_minor": 4
}
