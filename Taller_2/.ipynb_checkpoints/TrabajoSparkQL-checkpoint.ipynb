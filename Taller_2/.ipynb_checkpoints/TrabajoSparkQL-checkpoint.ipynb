{
 "cells": [
  {
   "cell_type": "markdown",
   "metadata": {},
   "source": [
    "# Análisis e Implementación en SparkQL\n",
    "\n",
    "* Entrega hasta el 24 de mayo en https://forms.gle/aRiWtjayausRFCTd8\n",
    "\n",
    "* Los dos conjuntos de datos entregados, CSV separados por coma, Evaluación del Pitch (2021.04.13 ISoftware).csv y Asistencia del Pitch (2021.04.13 ISoftware).csv proceden de dos encuestas realizadas con Google Forms.\n",
    "\n",
    "* Los archivos proceden de las evaluaciones de los pitch (exposiciones cortas de negocio) que realizan los estudiantes de la asignatura de Ingeniería de Software. Los estudiantes están organizados en equipos. Cada equipo realiza una presentación de máximo 15 minutos, una vez inicia la presentación todos los estudiantes deben registrar su asistencia lo cual queda registrado en 'Asistencia del Pitch (2021.04.13 ISoftware).csv' incluidos los miembros del equipo.\n",
    "\n",
    "* El archivo `Asistencia del Pitch (2021.04.13 ISoftware).csv` contiene las columnas: `\"Marca temporal\"` es tiempo dado en fecha y hora, `\"Nombre de usuario\"` es el correo electrónico del estudiante y es texto,`\"Equipo al que perteneces:\"` equipo de trabajo al que pertenece el estudiante también es texto y `\"Equipo que va a exponer:\"` equipo que el estudiante va a tender a su presentación.\n",
    "\n",
    "* El archivo `Evaluación del Pitch (2021.04.13 ISoftware).csv` contiene las columnas `\"Marca temporal\"` es tiempo dado en fecha y hora, `\"Nombre de usuario\"` es el correo electrónico del estudiante y es texto, `\"Equipo que vas a evaluar:\"` equipo que ha expuesto y que va a ser evaluado por cada estudiante que no sea integrante; a continuación, se tienen las siguientes columnas que corresponden a la evaluación de los respectivos ítems:\n",
    "\n",
    "    1. \"Introducción: El equipo responde adecuadamente ¿Quiénes son y por qué están aquí?\",\n",
    "    2. \"Equipo: El equipo responde adecuadamente ¿Quiénes están detrás de la idea y cuál es su función?\",\n",
    "    3. \"Problema: El equipo responde adecuadamente ¿Qué problema resolverá?, ¿es realmente un problema?\",\n",
    "    4. \"Ventajas: El equipo responde adecuadamente ¿Por qué su solución es especial?, ¿qué la hace distinta de otras?\",\n",
    "    5. \"Solución: El equipo responde adecuadamente ¿Cómo piensa resolver el problema?\",\n",
    "    6. \"Producto: El equipo responde adecuadamente ¿Cómo funciona el producto o servicio? Muestra algunos ejemplos.\",\n",
    "    7. \"Tracción: El equipo responde adecuadamente si cuenta con clientes que demuestran potencial.\",\n",
    "    8. \"Mercado: El equipo responde conoce, o por lo menos intentar predecir, el tamaño del mercado que impactará.\",\n",
    "    9. \"Competencia: El equipo responde adecuadamente ¿Cuáles son las soluciones alternativas al problema que plantea?\",\n",
    "    10. \"Modelo de negocio: El equipo responde adecuadamente ¿Cómo hará dinero? \",\n",
    "    11. \"Inversión: El equipo responde adecuadamente ¿Cuál es su presupuesto y cuánto espera ganar?\",\n",
    "    12. \"Contacto: El equipo deja los datos al cliente y muestra cómo pueden contactarle.\",\n",
    "    13. \"Exposición: ¿Qué tan coordinados estaban los expositores?\",\n",
    "    14. \"Exposición: ¿Los expositores se expresaron con claridad y se hicieron entender?\",\n",
    "    15. \"Exposición: Las diapositivas son claras y coherentes y apoyaron adecuadamente la exposición.\",\n",
    "    * \"Suponiendo que eres inversionista, ¿Estarías dispuesto a invertir dinero en este equipo? (esta pregunta no se pondera en la nota)\",\n",
    "    * \"Observaciones para el equipo, estas observaciones las debe considerar el equipo para mejorar la siguiente presentación.\"\n",
    "\n",
    "\n",
    "* Cada ítem se evalúa con la siguiente escala: 0. Ausente; 1. Deficiente; 2. Regular; 3. Aceptable; 4. Bueno; 5. Excelente\n",
    "\n",
    "* Carge los datos, cada archivo en una tabla SparkSQL y responda cada una de las consultas dadas en cada celda. Tenga en cuenta que algunas consultas pueden tener como resultado el vacío."
   ]
  },
  {
   "cell_type": "markdown",
   "metadata": {},
   "source": [
    "# Integrantes del equipo\n",
    "1. Ana Maria Gaona Gomez\n",
    "2. Julian Palacio Roldan\n",
    "3. Natalia Carmona Restrepo\n",
    "4. Tomas Vergara Cardona\n",
    "5."
   ]
  },
  {
   "cell_type": "code",
   "execution_count": 1,
   "metadata": {},
   "outputs": [],
   "source": [
    "# Agrege acá el código para importar las librerias\n",
    "\n",
    "# La libreria para \"encontrar el sevicio\" de Spark\n",
    "import findspark\n",
    "findspark.init()\n",
    "\n",
    "# Librerias para \"gestionar el servicio\" de Spark\n",
    "from pyspark import SparkConf, SparkContext\n",
    "from pyspark.sql import SQLContext, SparkSession\n",
    "\n",
    "# Creamos una aplicación Spark en el Servicio\n",
    "# Tenga cuidado con las tildes o caracteres especiales en el nombre de la app\n",
    "AppSpark = SparkConf().setAppName(\"Evaluacion iSofware\")\n",
    "\n",
    "# definimos un espacio o contexto para la App\n",
    "ContextoSpark=SparkContext(conf=AppSpark)\n",
    "\n",
    "# inicio una sesión en el espacio de la App\n",
    "SesionSpark = SparkSession(ContextoSpark)\n",
    "\n",
    "# inicio del espacio o contexto SQL\n",
    "ContextoSql = SQLContext(sparkContext=ContextoSpark, sparkSession=SesionSpark)"
   ]
  },
  {
   "cell_type": "code",
   "execution_count": 22,
   "metadata": {},
   "outputs": [
    {
     "name": "stdout",
     "output_type": "stream",
     "text": [
      "put: `Asistencia.csv': File exists\n",
      "put: `Evaluacion.csv': File exists\n",
      "Found 2 items\n",
      "-rw-r--r--   1 root supergroup      93121 2021-05-15 20:49 Asistencia.csv\n",
      "-rw-r--r--   1 root supergroup     111944 2021-05-15 20:50 Evaluacion.csv\n"
     ]
    }
   ],
   "source": [
    "# 1. Cargue los datos en la carpeta datalake y luego del /datalake al HDFS (Hadoop File System)\n",
    "# Recuerda usar ! para ejecutar el comando en el shell. \n",
    "# Tu código a continuación...\n",
    "\n",
    "!hadoop fs -put \"/datalake/Asistencia.csv\"\n",
    "!hadoop fs -put \"/datalake/Evaluacion.csv\"\n",
    "!hadoop fs -ls"
   ]
  },
  {
   "cell_type": "code",
   "execution_count": 67,
   "metadata": {},
   "outputs": [],
   "source": [
    "# 2. Cree dos tablas SparkSQL y almacene el csv en su correspondiente tabla.\n",
    "# Observación: tenga especial cuidado con los encabezados de los archivos CSV.\n",
    "# Usted puede considerar cambiar los encabezados de los CSV originales\n",
    "# Tu código a continuación...\n",
    "\n",
    "ContextoSql.sql(\"DROP TABLE IF EXISTS asistencia\")\n",
    "ContextoSql.sql(\"DROP TABLE IF EXISTS evaluacion\")\n",
    "ContextoSql.sql(\"DROP TABLE IF EXISTS evaluacion2\")\n",
    "ContextoSql.sql(\"\"\"\n",
    "CREATE TABLE IF NOT EXISTS \n",
    "    asistencia (\n",
    "        fecha TIMESTAMP,\n",
    "        email STRING,\n",
    "        equipo STRING,\n",
    "        expositor STRING\n",
    "        ) \n",
    "USING com.databricks.spark.csv \n",
    "OPTIONS (\n",
    "    path 'Asistencia.csv', \n",
    "    header='true',\n",
    "    timestampFormat=\\\"yyyy/MM/dd HH:mm:ss\\\")\n",
    "    \n",
    "\"\"\");\n",
    "\n",
    "ContextoSql.sql(\"\"\"\n",
    "CREATE TABLE IF NOT EXISTS \n",
    "    evaluacion (\n",
    "        fecha TIMESTAMP,\n",
    "        email STRING,\n",
    "        evaluado STRING,\n",
    "        introduccion STRING,\n",
    "        equipo STRING,\n",
    "        problema STRING,\n",
    "        ventajas STRING,\n",
    "        solucion STRING,\n",
    "        producto STRING,\n",
    "        traccion STRING,\n",
    "        mercado STRING,\n",
    "        competencia STRING,\n",
    "        modelo STRING,\n",
    "        inversion STRING,\n",
    "        contacto STRING,\n",
    "        exposicion1 STRING,\n",
    "        exposicion2 STRING,\n",
    "        exposicion3 STRING,\n",
    "        invertiria STRING,\n",
    "        observaciones STRING\n",
    "        ) \n",
    "USING com.databricks.spark.csv \n",
    "OPTIONS (\n",
    "    path 'Evaluacion.csv', \n",
    "    header='true',\n",
    "    timestampFormat=\\\"yyyy/MM/dd HH:mm:ss\\\")\n",
    "\"\"\");\n"
   ]
  },
  {
   "cell_type": "code",
   "execution_count": 68,
   "metadata": {},
   "outputs": [
    {
     "name": "stdout",
     "output_type": "stream",
     "text": [
      "+--------+----------+-----------+\n",
      "|database| tableName|isTemporary|\n",
      "+--------+----------+-----------+\n",
      "| default|asistencia|      false|\n",
      "| default|evaluacion|      false|\n",
      "+--------+----------+-----------+\n",
      "\n",
      "+-------------------+--------------------+--------------------+--------------------+\n",
      "|              fecha|               email|              equipo|           expositor|\n",
      "+-------------------+--------------------+--------------------+--------------------+\n",
      "|2021-04-08 08:07:55|jppinedal@unal.ed...|Pertenezco a: Ser...|Expone: Servicios...|\n",
      "+-------------------+--------------------+--------------------+--------------------+\n",
      "only showing top 1 row\n",
      "\n",
      "+-------------------+--------------------+-------------+------------+------+--------+--------+--------+--------+--------+-------+-----------+------+---------+--------+-----------+-----------+-----------+----------+-------------+\n",
      "|              fecha|               email|     evaluado|introduccion|equipo|problema|ventajas|solucion|producto|traccion|mercado|competencia|modelo|inversion|contacto|exposicion1|exposicion2|exposicion3|invertiria|observaciones|\n",
      "+-------------------+--------------------+-------------+------------+------+--------+--------+--------+--------+--------+-------+-----------+------+---------+--------+-----------+-----------+-----------+----------+-------------+\n",
      "|2021-04-08 08:26:30|jmunozbo@unal.edu.co|Te lo cambio.|           5|     5|       5|       5|       5|       5|       5|      5|          5|     5|        3|       5|          5|          5|          5|   Tal vez|         null|\n",
      "+-------------------+--------------------+-------------+------------+------+--------+--------+--------+--------+--------+-------+-----------+------+---------+--------+-----------+-----------+-----------+----------+-------------+\n",
      "only showing top 1 row\n",
      "\n"
     ]
    }
   ],
   "source": [
    "ContextoSql.sql(\"SHOW TABLES\").show()\n",
    "\n",
    "consulta = ContextoSql.sql(\"Select * from evaluacion\")\n",
    "consulta2 = ContextoSql.sql(\"Select * from asistencia\")\n",
    "consulta2.show(1)\n",
    "consulta.show(1)"
   ]
  },
  {
   "cell_type": "code",
   "execution_count": 72,
   "metadata": {},
   "outputs": [
    {
     "name": "stdout",
     "output_type": "stream",
     "text": [
      "+--------------------+\n",
      "|               email|\n",
      "+--------------------+\n",
      "| abanolc@unal.edu.co|\n",
      "|acastrillonv@unal...|\n",
      "| aflemag@unal.edu.co|\n",
      "|anapariciom@unal....|\n",
      "|angutierrezb@unal...|\n",
      "|anoriega@unal.edu.co|\n",
      "|auarbelaeza@unal....|\n",
      "| bocampo@unal.edu.co|\n",
      "|cgiraldo@unal.edu.co|\n",
      "|cjfunezg@unal.edu.co|\n",
      "|cquinchiar@unal.e...|\n",
      "| dadazam@unal.edu.co|\n",
      "|daestradam@unal.e...|\n",
      "|davgarciava@unal....|\n",
      "|dballesteroso@una...|\n",
      "|  dbrito@unal.edu.co|\n",
      "|dcadavid@unal.edu.co|\n",
      "|dcardonaal@unal.e...|\n",
      "|dchavarriar@unal....|\n",
      "|dgarciabl@unal.ed...|\n",
      "|dgerenal@unal.edu.co|\n",
      "|dgiraldolo@unal.e...|\n",
      "|dguardia@unal.edu.co|\n",
      "|dosoriom@unal.edu.co|\n",
      "| eapenad@unal.edu.co|\n",
      "|elondonoc@unal.ed...|\n",
      "|emflorezb@unal.ed...|\n",
      "|emlopezr@unal.edu.co|\n",
      "|eporrasm@unal.edu.co|\n",
      "|esgarciac@unal.ed...|\n",
      "|favasquezj@unal.e...|\n",
      "|fguerrerot@unal.e...|\n",
      "|fmiranda@unal.edu.co|\n",
      "|framirezf@unal.ed...|\n",
      "|hriveraa@unal.edu.co|\n",
      "|jcardonaso@unal.e...|\n",
      "|jcorreapa@unal.ed...|\n",
      "|jdroldano@unal.ed...|\n",
      "|jfernandezmo@unal...|\n",
      "|jgutierrezlo@unal...|\n",
      "|jhcordoba@unal.ed...|\n",
      "|jjmonsalvem@unal....|\n",
      "|jlopezpe@unal.edu.co|\n",
      "|jmonsalveb@unal.e...|\n",
      "|jmunozbo@unal.edu.co|\n",
      "|jmunozhe@unal.edu.co|\n",
      "| jortize@unal.edu.co|\n",
      "|jovillarrealm@una...|\n",
      "|jppinedal@unal.ed...|\n",
      "| jruedat@unal.edu.co|\n",
      "|jspatinoa@unal.ed...|\n",
      "|jubuitrago@unal.e...|\n",
      "|jucardonaa@unal.e...|\n",
      "|jugutierrezt@unal...|\n",
      "|juochoag@unal.edu.co|\n",
      "|juortizt@unal.edu.co|\n",
      "|juriveras@unal.ed...|\n",
      "|keariasb@unal.edu.co|\n",
      "| kmolano@unal.edu.co|\n",
      "|lbarcelo@unal.edu.co|\n",
      "|  lmayar@unal.edu.co|\n",
      "|   lmazo@unal.edu.co|\n",
      "| lrdiaza@unal.edu.co|\n",
      "|lumarinb@unal.edu.co|\n",
      "| mcallea@unal.edu.co|\n",
      "|mcarvajalsa@unal....|\n",
      "|mhernandezbe@unal...|\n",
      "|mimorenov@unal.ed...|\n",
      "|mizapataa@unal.ed...|\n",
      "|nsalinas@unal.edu.co|\n",
      "|nvalenciat@unal.e...|\n",
      "|parestrepoo@unal....|\n",
      "|rmbuilesm@unal.ed...|\n",
      "|sacastrot@unal.ed...|\n",
      "|saespinosab@unal....|\n",
      "|samolinap@unal.ed...|\n",
      "|sasalazarr@unal.e...|\n",
      "|seagudeloo@unal.e...|\n",
      "|sebermudezg@unal....|\n",
      "|sednarvaezna@unal...|\n",
      "|serendona@unal.ed...|\n",
      "|   tleon@unal.edu.co|\n",
      "| wocampo@unal.edu.co|\n",
      "+--------------------+\n",
      "\n"
     ]
    }
   ],
   "source": [
    "# 2. Consulte el listado total de estudiantes (correos electrónicos) del \n",
    "# curso de Ingeniería de Software, ordenados alfabéticamente\n",
    "# Tu código a continuación...\n",
    "\n",
    "ContextoSql.sql(\"SELECT DISTINCT email from asistencia ORDER BY email\").show(100)"
   ]
  },
  {
   "cell_type": "code",
   "execution_count": null,
   "metadata": {},
   "outputs": [],
   "source": [
    "# 3. Consulte la cantidad de asistencias registradas por estudiante; además, la fecha y hora de la primera asistencia\n",
    "# y la fecha y hora de la última asistencia\n",
    "# Tu código a continuación...\n"
   ]
  },
  {
   "cell_type": "code",
   "execution_count": null,
   "metadata": {},
   "outputs": [],
   "source": [
    "# 4. Consulte el listado de estudiantes que asistieron a 2 presentaciones o menos (una).\n",
    "# Tu código a continuación...\n"
   ]
  },
  {
   "cell_type": "code",
   "execution_count": null,
   "metadata": {},
   "outputs": [],
   "source": [
    "# 5. Consulte el listado de estudiantes que no asistieron a ninguna presentación.\n",
    "# Tu código a continuación...\n",
    "\n"
   ]
  },
  {
   "cell_type": "code",
   "execution_count": null,
   "metadata": {},
   "outputs": [],
   "source": [
    "# 6. Consulte los integrantes por cada equipo al que pertenecen.\n",
    "# Tu código a continuación...\n"
   ]
  },
  {
   "cell_type": "code",
   "execution_count": null,
   "metadata": {},
   "outputs": [],
   "source": [
    "# 7. Consulte la cantidad de asistentes por presentación, sin considerar los asistentes que pertenecen \n",
    "# al equipo que realizó la presentación.\n",
    "# Tu código a continuación...\n"
   ]
  },
  {
   "cell_type": "code",
   "execution_count": null,
   "metadata": {},
   "outputs": [],
   "source": [
    "# 8. Consutar cuáles integrantes evaluaron a su propio equipo. Estas evaluaciones no serán válidas, pues un\n",
    "# integrante no puede evaluar a su propio equipo.\n",
    "# Tu código a continuación...\n"
   ]
  },
  {
   "cell_type": "code",
   "execution_count": null,
   "metadata": {},
   "outputs": [],
   "source": [
    "# 9. Consultar la nota promedio por cada ítem (1 al 15), y la nota promedio total del cada equipo. Recuerde que no\n",
    "# son válidas las evaluaciones realizadas por los miembros del mismo equipo.\n",
    "# Tu código a continuación...\n"
   ]
  },
  {
   "cell_type": "code",
   "execution_count": null,
   "metadata": {},
   "outputs": [],
   "source": [
    "# 10. Consulte el mejor equipo evaluado por cada ítem (según nota promedio. En caso de empate mostrar todos los empatados) \n",
    "# y el mejor equipo según el promedio total.\n",
    "# Tu código a continuación...\n"
   ]
  },
  {
   "cell_type": "code",
   "execution_count": null,
   "metadata": {},
   "outputs": [],
   "source": [
    "# 11. Consulte el peor equipo evaluado por cada ítem (según nota promedio. En caso de empate mostrar todos los empatados) \n",
    "# y el peor equipo según el promedio total.\n",
    "# Tu código a continuación...\n"
   ]
  },
  {
   "cell_type": "code",
   "execution_count": null,
   "metadata": {},
   "outputs": [],
   "source": [
    "# 12. Consulte la lista de estudiantes con la correspondiente nota obtenida en la presentación \n",
    "# (nota promedio total de la evaluación obtenida por el equipo)\n",
    "# Tu código a continuación...\n"
   ]
  }
 ],
 "metadata": {
  "kernelspec": {
   "display_name": "Python 3",
   "language": "python",
   "name": "python3"
  },
  "language_info": {
   "codemirror_mode": {
    "name": "ipython",
    "version": 3
   },
   "file_extension": ".py",
   "mimetype": "text/x-python",
   "name": "python",
   "nbconvert_exporter": "python",
   "pygments_lexer": "ipython3",
   "version": "3.6.9"
  }
 },
 "nbformat": 4,
 "nbformat_minor": 4
}
